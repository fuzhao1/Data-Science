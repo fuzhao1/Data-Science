{
 "cells": [
  {
   "cell_type": "markdown",
   "metadata": {},
   "source": [
    "### https://www.dataquest.io/blog/pandas-big-data/\n",
    "\n",
    "I read this blog and find it is very interesting to learn the stategy to reduce the memory consumption with pandas for large dataset processing. This blog introduces two ways, one is downcast numerical data and the other one is to transform object datatype. After this two processing stage, the memory usage can be reduced by 90% \n",
    "\n",
    "Keywords: memory usage can be reduced by up to 90%"
   ]
  },
  {
   "cell_type": "code",
   "execution_count": 1,
   "metadata": {},
   "outputs": [
    {
     "name": "stderr",
     "output_type": "stream",
     "text": [
      "/usr/local/lib/python2.7/dist-packages/IPython/core/interactiveshell.py:2718: DtypeWarning: Columns (12,13,14,15,19,20,81,83,85,87,93,94,95,96,97,98,99,100,105,106,108,109,111,112,114,115,117,118,120,121,123,124,126,127,129,130,132,133,135,136,138,139,141,142,144,145,147,148,150,151,153,154,156,157,160) have mixed types. Specify dtype option on import or set low_memory=False.\n",
      "  interactivity=interactivity, compiler=compiler, result=result)\n"
     ]
    }
   ],
   "source": [
    "import numpy as np\n",
    "import pandas as pd\n",
    "\n",
    "# load data set, which is available: https://data.world/dataquest/mlb-game-logs\n",
    "data = pd.read_csv(\"game_logs.csv\")"
   ]
  },
  {
   "cell_type": "code",
   "execution_count": 2,
   "metadata": {},
   "outputs": [
    {
     "name": "stdout",
     "output_type": "stream",
     "text": [
      "<class 'pandas.core.frame.DataFrame'>\n",
      "RangeIndex: 171907 entries, 0 to 171906\n",
      "Columns: 161 entries, date to acquisition_info\n",
      "dtypes: float64(77), int64(6), object(78)\n",
      "memory usage: 738.1 MB\n"
     ]
    }
   ],
   "source": [
    "# check memory usage information before processing \n",
    "data.info(memory_usage='deep')"
   ]
  },
  {
   "cell_type": "markdown",
   "metadata": {},
   "source": [
    "#### Downcast numerical data type(float64\tint64\tuint64 => float32\tint32\tuint32\t => float16\tint16\tuint16)"
   ]
  },
  {
   "cell_type": "code",
   "execution_count": 3,
   "metadata": {},
   "outputs": [
    {
     "data": {
      "text/html": [
       "<div>\n",
       "<style>\n",
       "    .dataframe thead tr:only-child th {\n",
       "        text-align: right;\n",
       "    }\n",
       "\n",
       "    .dataframe thead th {\n",
       "        text-align: left;\n",
       "    }\n",
       "\n",
       "    .dataframe tbody tr th {\n",
       "        vertical-align: top;\n",
       "    }\n",
       "</style>\n",
       "<table border=\"1\" class=\"dataframe\">\n",
       "  <thead>\n",
       "    <tr style=\"text-align: right;\">\n",
       "      <th></th>\n",
       "      <th>Before</th>\n",
       "      <th>After</th>\n",
       "    </tr>\n",
       "  </thead>\n",
       "  <tbody>\n",
       "    <tr>\n",
       "      <th>uint8</th>\n",
       "      <td>NaN</td>\n",
       "      <td>5.0</td>\n",
       "    </tr>\n",
       "    <tr>\n",
       "      <th>uint32</th>\n",
       "      <td>NaN</td>\n",
       "      <td>1.0</td>\n",
       "    </tr>\n",
       "    <tr>\n",
       "      <th>int64</th>\n",
       "      <td>6.0</td>\n",
       "      <td>NaN</td>\n",
       "    </tr>\n",
       "  </tbody>\n",
       "</table>\n",
       "</div>"
      ],
      "text/plain": [
       "        Before  After\n",
       "uint8      NaN    5.0\n",
       "uint32     NaN    1.0\n",
       "int64      6.0    NaN"
      ]
     },
     "execution_count": 3,
     "metadata": {},
     "output_type": "execute_result"
    }
   ],
   "source": [
    "# downcast int type columns in pandas\n",
    "data_int = data.select_dtypes(include=['int'])\n",
    "converted_int = data_int.apply(pd.to_numeric, downcast='unsigned')\n",
    "\n",
    "# compare the difference\n",
    "compared_int = pd.concat([data_int.dtypes, converted_int.dtypes], axis=1)\n",
    "compared_int.columns = ['Before', 'After']\n",
    "compared_int.apply(pd.Series.value_counts)"
   ]
  },
  {
   "cell_type": "code",
   "execution_count": 4,
   "metadata": {},
   "outputs": [
    {
     "data": {
      "text/html": [
       "<div>\n",
       "<style>\n",
       "    .dataframe thead tr:only-child th {\n",
       "        text-align: right;\n",
       "    }\n",
       "\n",
       "    .dataframe thead th {\n",
       "        text-align: left;\n",
       "    }\n",
       "\n",
       "    .dataframe tbody tr th {\n",
       "        vertical-align: top;\n",
       "    }\n",
       "</style>\n",
       "<table border=\"1\" class=\"dataframe\">\n",
       "  <thead>\n",
       "    <tr style=\"text-align: right;\">\n",
       "      <th></th>\n",
       "      <th>Before</th>\n",
       "      <th>After</th>\n",
       "    </tr>\n",
       "  </thead>\n",
       "  <tbody>\n",
       "    <tr>\n",
       "      <th>float32</th>\n",
       "      <td>NaN</td>\n",
       "      <td>77.0</td>\n",
       "    </tr>\n",
       "    <tr>\n",
       "      <th>float64</th>\n",
       "      <td>77.0</td>\n",
       "      <td>NaN</td>\n",
       "    </tr>\n",
       "  </tbody>\n",
       "</table>\n",
       "</div>"
      ],
      "text/plain": [
       "         Before  After\n",
       "float32     NaN   77.0\n",
       "float64    77.0    NaN"
      ]
     },
     "execution_count": 4,
     "metadata": {},
     "output_type": "execute_result"
    }
   ],
   "source": [
    "# downcast float type columns in pandas\n",
    "data_float = data.select_dtypes(include=['float'])\n",
    "converted_float = data_float.apply(pd.to_numeric, downcast='float')\n",
    "\n",
    "# compare the difference\n",
    "compared_float = pd.concat([data_float.dtypes, converted_float.dtypes], axis=1)\n",
    "compared_float.columns = ['Before', 'After']\n",
    "compared_float.apply(pd.Series.value_counts)"
   ]
  },
  {
   "cell_type": "code",
   "execution_count": 5,
   "metadata": {},
   "outputs": [
    {
     "name": "stdout",
     "output_type": "stream",
     "text": [
      "<class 'pandas.core.frame.DataFrame'>\n",
      "RangeIndex: 171907 entries, 0 to 171906\n",
      "Columns: 161 entries, date to acquisition_info\n",
      "dtypes: float64(77), int64(6), object(78)\n",
      "memory usage: 738.1 MB\n",
      "None\n",
      "1.29473250952\n",
      "<class 'pandas.core.frame.DataFrame'>\n",
      "RangeIndex: 171907 entries, 0 to 171906\n",
      "Columns: 161 entries, date to acquisition_info\n",
      "dtypes: float32(77), object(78), uint32(1), uint8(5)\n",
      "memory usage: 681.2 MB\n",
      "None\n"
     ]
    }
   ],
   "source": [
    "# compare the memory usage difference before and after numerical data optimization\n",
    "data_org = data.copy()\n",
    "print data_org.info(memory_usage='deep')\n",
    "\n",
    "data[converted_float.columns] = converted_float\n",
    "print data_float.memory_usage(deep=True).mean() / 1024 ** 2\n",
    "data[converted_int.columns] = converted_int\n",
    "print data.info(memory_usage='deep')"
   ]
  },
  {
   "cell_type": "code",
   "execution_count": 6,
   "metadata": {},
   "outputs": [
    {
     "name": "stderr",
     "output_type": "stream",
     "text": [
      "/usr/local/lib/python2.7/dist-packages/pandas/core/indexing.py:601: SettingWithCopyWarning: \n",
      "A value is trying to be set on a copy of a slice from a DataFrame.\n",
      "Try using .loc[row_indexer,col_indexer] = value instead\n",
      "\n",
      "See the caveats in the documentation: http://pandas.pydata.org/pandas-docs/stable/indexing.html#indexing-view-versus-copy\n",
      "  self.obj[item_labels[indexer[info_axis]]] = value\n",
      "/usr/local/lib/python2.7/dist-packages/pandas/core/indexing.py:517: SettingWithCopyWarning: \n",
      "A value is trying to be set on a copy of a slice from a DataFrame.\n",
      "Try using .loc[row_indexer,col_indexer] = value instead\n",
      "\n",
      "See the caveats in the documentation: http://pandas.pydata.org/pandas-docs/stable/indexing.html#indexing-view-versus-copy\n",
      "  self.obj[item] = s\n"
     ]
    },
    {
     "name": "stdout",
     "output_type": "stream",
     "text": [
      "<class 'pandas.core.frame.DataFrame'>\n",
      "RangeIndex: 171907 entries, 0 to 171906\n",
      "Columns: 161 entries, date to acquisition_info\n",
      "dtypes: category(78), float32(77), uint32(1), uint8(5)\n",
      "memory usage: 100.4 MB\n",
      "None\n"
     ]
    }
   ],
   "source": [
    "# retype object type also requires extra memory space. Therefore, dataset should make sure that object columns has less than 50% \n",
    "# data is unique\n",
    "data_obj = data.select_dtypes(include=['object'])\n",
    "\n",
    "for col in data_obj.columns:\n",
    "    rate = len(data_obj[col].unique()) / len(data_obj[col])\n",
    "    if rate < 0.5:\n",
    "        data_obj.loc[:,col] = data_obj[col].astype('category')\n",
    "    else:\n",
    "        data_obj.loc[:,col] = data_obj[col]\n",
    "\n",
    "data[data_obj.columns] = data_obj\n",
    "print data.info(memory_usage='deep')"
   ]
  },
  {
   "cell_type": "code",
   "execution_count": 7,
   "metadata": {},
   "outputs": [
    {
     "data": {
      "text/plain": [
       "0    1871\n",
       "1    1871\n",
       "2    1871\n",
       "3    1871\n",
       "4    1871\n",
       "Name: date, dtype: int64"
      ]
     },
     "execution_count": 7,
     "metadata": {},
     "output_type": "execute_result"
    }
   ],
   "source": [
    "# check and convert date type for allow us to more easily do time series analysis\n",
    "date = data.date\n",
    "data['date'] = pd.to_datetime(date, format='%Y%m%d')\n",
    "data.date.head().dt.year"
   ]
  },
  {
   "cell_type": "code",
   "execution_count": 8,
   "metadata": {},
   "outputs": [],
   "source": [
    "# How can we apply memory-saving techniques when we can’t even create the dataframe in the first place?\n",
    "# removing the date column since that needs to be treated separately.\n",
    "dtypes = data.drop('date', axis=1).dtypes\n",
    "dtypes_col = dtypes.index\n",
    "\n",
    "dtypes_name = [i.name for i in dtypes.values]\n",
    "columns_dic = dict(zip(dtypes_col, dtypes_name))"
   ]
  },
  {
   "cell_type": "code",
   "execution_count": 9,
   "metadata": {},
   "outputs": [],
   "source": [
    "# parse_dates: try parsing columns, infer_datetime_format:If infer_datetime_format is True and parse_dates is enabled, \n",
    "# pandas will attempt to infer the format of the datetime strings in the columns, and if it can be inferred, switch to a faster\n",
    "# method of parsing them. In some cases this can increase the parsing speed by 5-10x.\n",
    "game_log = pd.read_csv('game_logs.csv', dtype=columns_dic, parse_dates=['date'], infer_datetime_format=True)\n"
   ]
  },
  {
   "cell_type": "code",
   "execution_count": 10,
   "metadata": {},
   "outputs": [
    {
     "data": {
      "text/html": [
       "<div>\n",
       "<style>\n",
       "    .dataframe thead tr:only-child th {\n",
       "        text-align: right;\n",
       "    }\n",
       "\n",
       "    .dataframe thead th {\n",
       "        text-align: left;\n",
       "    }\n",
       "\n",
       "    .dataframe tbody tr th {\n",
       "        vertical-align: top;\n",
       "    }\n",
       "</style>\n",
       "<table border=\"1\" class=\"dataframe\">\n",
       "  <thead>\n",
       "    <tr style=\"text-align: right;\">\n",
       "      <th></th>\n",
       "      <th>date</th>\n",
       "      <th>number_of_game</th>\n",
       "      <th>day_of_week</th>\n",
       "      <th>v_name</th>\n",
       "      <th>v_league</th>\n",
       "      <th>v_game_number</th>\n",
       "      <th>h_name</th>\n",
       "      <th>h_league</th>\n",
       "      <th>h_game_number</th>\n",
       "      <th>v_score</th>\n",
       "      <th>...</th>\n",
       "      <th>h_player_7_name</th>\n",
       "      <th>h_player_7_def_pos</th>\n",
       "      <th>h_player_8_id</th>\n",
       "      <th>h_player_8_name</th>\n",
       "      <th>h_player_8_def_pos</th>\n",
       "      <th>h_player_9_id</th>\n",
       "      <th>h_player_9_name</th>\n",
       "      <th>h_player_9_def_pos</th>\n",
       "      <th>additional_info</th>\n",
       "      <th>acquisition_info</th>\n",
       "    </tr>\n",
       "  </thead>\n",
       "  <tbody>\n",
       "    <tr>\n",
       "      <th>0</th>\n",
       "      <td>1871-05-04 00:00:00</td>\n",
       "      <td>0</td>\n",
       "      <td>Thu</td>\n",
       "      <td>CL1</td>\n",
       "      <td>na</td>\n",
       "      <td>1</td>\n",
       "      <td>FW1</td>\n",
       "      <td>na</td>\n",
       "      <td>1</td>\n",
       "      <td>0</td>\n",
       "      <td>...</td>\n",
       "      <td>Ed Mincher</td>\n",
       "      <td>7.0</td>\n",
       "      <td>mcdej101</td>\n",
       "      <td>James McDermott</td>\n",
       "      <td>8.0</td>\n",
       "      <td>kellb105</td>\n",
       "      <td>Bill Kelly</td>\n",
       "      <td>9.0</td>\n",
       "      <td>NaN</td>\n",
       "      <td>Y</td>\n",
       "    </tr>\n",
       "    <tr>\n",
       "      <th>1</th>\n",
       "      <td>1871-05-05 00:00:00</td>\n",
       "      <td>0</td>\n",
       "      <td>Fri</td>\n",
       "      <td>BS1</td>\n",
       "      <td>na</td>\n",
       "      <td>1</td>\n",
       "      <td>WS3</td>\n",
       "      <td>na</td>\n",
       "      <td>1</td>\n",
       "      <td>20</td>\n",
       "      <td>...</td>\n",
       "      <td>Asa Brainard</td>\n",
       "      <td>1.0</td>\n",
       "      <td>burrh101</td>\n",
       "      <td>Henry Burroughs</td>\n",
       "      <td>9.0</td>\n",
       "      <td>berth101</td>\n",
       "      <td>Henry Berthrong</td>\n",
       "      <td>8.0</td>\n",
       "      <td>HTBF</td>\n",
       "      <td>Y</td>\n",
       "    </tr>\n",
       "    <tr>\n",
       "      <th>2</th>\n",
       "      <td>1871-05-06 00:00:00</td>\n",
       "      <td>0</td>\n",
       "      <td>Sat</td>\n",
       "      <td>CL1</td>\n",
       "      <td>na</td>\n",
       "      <td>2</td>\n",
       "      <td>RC1</td>\n",
       "      <td>na</td>\n",
       "      <td>1</td>\n",
       "      <td>12</td>\n",
       "      <td>...</td>\n",
       "      <td>Pony Sager</td>\n",
       "      <td>6.0</td>\n",
       "      <td>birdg101</td>\n",
       "      <td>George Bird</td>\n",
       "      <td>7.0</td>\n",
       "      <td>stirg101</td>\n",
       "      <td>Gat Stires</td>\n",
       "      <td>9.0</td>\n",
       "      <td>NaN</td>\n",
       "      <td>Y</td>\n",
       "    </tr>\n",
       "    <tr>\n",
       "      <th>3</th>\n",
       "      <td>1871-05-08 00:00:00</td>\n",
       "      <td>0</td>\n",
       "      <td>Mon</td>\n",
       "      <td>CL1</td>\n",
       "      <td>na</td>\n",
       "      <td>3</td>\n",
       "      <td>CH1</td>\n",
       "      <td>na</td>\n",
       "      <td>1</td>\n",
       "      <td>12</td>\n",
       "      <td>...</td>\n",
       "      <td>Ed Duffy</td>\n",
       "      <td>6.0</td>\n",
       "      <td>pinke101</td>\n",
       "      <td>Ed Pinkham</td>\n",
       "      <td>5.0</td>\n",
       "      <td>zettg101</td>\n",
       "      <td>George Zettlein</td>\n",
       "      <td>1.0</td>\n",
       "      <td>NaN</td>\n",
       "      <td>Y</td>\n",
       "    </tr>\n",
       "    <tr>\n",
       "      <th>4</th>\n",
       "      <td>1871-05-09 00:00:00</td>\n",
       "      <td>0</td>\n",
       "      <td>Tue</td>\n",
       "      <td>BS1</td>\n",
       "      <td>na</td>\n",
       "      <td>2</td>\n",
       "      <td>TRO</td>\n",
       "      <td>na</td>\n",
       "      <td>1</td>\n",
       "      <td>9</td>\n",
       "      <td>...</td>\n",
       "      <td>Steve Bellan</td>\n",
       "      <td>5.0</td>\n",
       "      <td>pikel101</td>\n",
       "      <td>Lip Pike</td>\n",
       "      <td>3.0</td>\n",
       "      <td>cravb101</td>\n",
       "      <td>Bill Craver</td>\n",
       "      <td>6.0</td>\n",
       "      <td>HTBF</td>\n",
       "      <td>Y</td>\n",
       "    </tr>\n",
       "  </tbody>\n",
       "</table>\n",
       "<p>5 rows × 161 columns</p>\n",
       "</div>"
      ],
      "text/plain": [
       "                 date  number_of_game day_of_week v_name v_league  \\\n",
       "0 1871-05-04 00:00:00               0         Thu    CL1       na   \n",
       "1 1871-05-05 00:00:00               0         Fri    BS1       na   \n",
       "2 1871-05-06 00:00:00               0         Sat    CL1       na   \n",
       "3 1871-05-08 00:00:00               0         Mon    CL1       na   \n",
       "4 1871-05-09 00:00:00               0         Tue    BS1       na   \n",
       "\n",
       "   v_game_number h_name h_league  h_game_number  v_score       ...         \\\n",
       "0              1    FW1       na              1        0       ...          \n",
       "1              1    WS3       na              1       20       ...          \n",
       "2              2    RC1       na              1       12       ...          \n",
       "3              3    CH1       na              1       12       ...          \n",
       "4              2    TRO       na              1        9       ...          \n",
       "\n",
       "   h_player_7_name  h_player_7_def_pos h_player_8_id  h_player_8_name  \\\n",
       "0       Ed Mincher                 7.0      mcdej101  James McDermott   \n",
       "1     Asa Brainard                 1.0      burrh101  Henry Burroughs   \n",
       "2       Pony Sager                 6.0      birdg101      George Bird   \n",
       "3         Ed Duffy                 6.0      pinke101       Ed Pinkham   \n",
       "4     Steve Bellan                 5.0      pikel101         Lip Pike   \n",
       "\n",
       "  h_player_8_def_pos h_player_9_id  h_player_9_name  h_player_9_def_pos  \\\n",
       "0                8.0      kellb105       Bill Kelly                 9.0   \n",
       "1                9.0      berth101  Henry Berthrong                 8.0   \n",
       "2                7.0      stirg101       Gat Stires                 9.0   \n",
       "3                5.0      zettg101  George Zettlein                 1.0   \n",
       "4                3.0      cravb101      Bill Craver                 6.0   \n",
       "\n",
       "   additional_info acquisition_info  \n",
       "0              NaN                Y  \n",
       "1             HTBF                Y  \n",
       "2              NaN                Y  \n",
       "3              NaN                Y  \n",
       "4             HTBF                Y  \n",
       "\n",
       "[5 rows x 161 columns]"
      ]
     },
     "execution_count": 10,
     "metadata": {},
     "output_type": "execute_result"
    }
   ],
   "source": [
    "data.head()"
   ]
  },
  {
   "cell_type": "code",
   "execution_count": 11,
   "metadata": {},
   "outputs": [
    {
     "name": "stdout",
     "output_type": "stream",
     "text": [
      "(126, 7)\n",
      "day_of_week       Fri       Mon       Sat       Sun       Thu       Tue  \\\n",
      "year                                                                      \n",
      "1871         0.157480  0.228346  0.165354       NaN  0.141732  0.141732   \n",
      "1872         0.092896  0.174863  0.262295       NaN  0.180328  0.147541   \n",
      "1873         0.140704  0.190955  0.236181       NaN  0.150754  0.120603   \n",
      "1874         0.116379  0.193966  0.206897       NaN  0.133621  0.146552   \n",
      "1875         0.104348  0.173913  0.237681  0.005797  0.182609  0.136232   \n",
      "\n",
      "day_of_week       Wed  \n",
      "year                   \n",
      "1871         0.165354  \n",
      "1872         0.142077  \n",
      "1873         0.160804  \n",
      "1874         0.202586  \n",
      "1875         0.159420  \n"
     ]
    },
    {
     "data": {
      "image/png": "[encoded data removed]",
      "text/plain": [
       "<matplotlib.figure.Figure at 0x7f0eb60e7fd0>"
      ]
     },
     "metadata": {},
     "output_type": "display_data"
    }
   ],
   "source": [
    "import matplotlib.pyplot as plt\n",
    "\n",
    "data['date'] = pd.to_datetime(date, format='%Y%m%d')\n",
    "data['year'] = data.date.dt.year\n",
    "\n",
    "# Create a spreadsheet-style pivot table as a DataFrame\n",
    "# example: https://pandas.pydata.org/pandas-docs/stable/generated/pandas.pivot_table.html\n",
    "games_per_day = data.pivot_table(index='year', columns='day_of_week', values='date', aggfunc=len)\n",
    "print games_per_day.shape\n",
    "\n",
    "games_per_day = games_per_day.divide(games_per_day.sum(axis=1),axis=0)\n",
    "print games_per_day.head()\n",
    "\n",
    "ax = games_per_day.plot(kind='area',stacked='true')\n",
    "ax.legend(loc='upper right')\n",
    "ax.set_ylim(0,1)\n",
    "plt.show()"
   ]
  }
 ],
 "metadata": {
  "kernelspec": {
   "display_name": "Python 2",
   "language": "python",
   "name": "python2"
  },
  "language_info": {
   "codemirror_mode": {
    "name": "ipython",
    "version": 2
   },
   "file_extension": ".py",
   "mimetype": "text/x-python",
   "name": "python",
   "nbconvert_exporter": "python",
   "pygments_lexer": "ipython2",
   "version": "2.7.12"
  }
 },
 "nbformat": 4,
 "nbformat_minor": 2
}
